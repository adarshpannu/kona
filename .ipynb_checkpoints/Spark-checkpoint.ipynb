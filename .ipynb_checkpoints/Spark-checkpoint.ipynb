{
 "cells": [
  {
   "cell_type": "markdown",
   "metadata": {},
   "source": [
    "# Scratch"
   ]
  },
  {
   "cell_type": "code",
   "execution_count": 2,
   "metadata": {},
   "outputs": [
    {
     "name": "stdout",
     "output_type": "stream",
     "text": [
      "root\n",
      " |-- name: string (nullable = true)\n",
      " |-- age: integer (nullable = true)\n",
      " |-- dept_id: integer (nullable = true)\n",
      "\n"
     ]
    }
   ],
   "source": [
    "EMPFILE = \"/Users/adarshrp/Projects/flare/data/emp.csv\"\n",
    "emp = spark.read.option(\"header\", True).option(\"inferSchema\", True).csv(EMPFILE)\n",
    "emp.printSchema()\n",
    "emp.createOrReplaceTempView(\"emp\")\n"
   ]
  },
  {
   "cell_type": "code",
   "execution_count": 28,
   "metadata": {},
   "outputs": [
    {
     "name": "stdout",
     "output_type": "stream",
     "text": [
      "+------+---+------+---+-------+-----+\n",
      "|--cte1|age|--cte1|2nd|dept_id| name|\n",
      "+------+---+------+---+-------+-----+\n",
      "|--cte1| 32|--cte1|2nd|      1| john|\n",
      "|--cte1| 30|--cte1|2nd|      1| john|\n",
      "|--cte1| 53|--cte1|2nd|      1| john|\n",
      "|--cte1| 45|--cte1|2nd|      1| john|\n",
      "|--cte1| 25|--cte1|2nd|      1| john|\n",
      "|--cte1| 28|--cte1|2nd|      1| john|\n",
      "|--cte1| 45|--cte1|2nd|      1| john|\n",
      "|--cte1| 25|--cte1|2nd|      1| john|\n",
      "|--cte1| 28|--cte1|2nd|      1| john|\n",
      "|--cte1| 28|--cte1|2nd|      1| john|\n",
      "|--cte1| 24|--cte1|2nd|      1| john|\n",
      "|--cte1| 27|--cte1|2nd|      1| john|\n",
      "|--cte1| 42|--cte1|2nd|      1| john|\n",
      "|--cte1| 38|--cte1|2nd|      1| john|\n",
      "|--cte1| 61|--cte1|2nd|      1| john|\n",
      "|--cte1| 32|--cte1|2nd|      2|  aby|\n",
      "|--cte1| 30|--cte1|2nd|      2|  aby|\n",
      "|--cte1| 53|--cte1|2nd|      2|  aby|\n",
      "|--cte1| 45|--cte1|2nd|      2|  aby|\n",
      "|--cte1| 25|--cte1|2nd|      2|  aby|\n",
      "|--cte1| 28|--cte1|2nd|      2|  aby|\n",
      "|--cte1| 45|--cte1|2nd|      2|  aby|\n",
      "|--cte1| 25|--cte1|2nd|      2|  aby|\n",
      "|--cte1| 28|--cte1|2nd|      2|  aby|\n",
      "|--cte1| 28|--cte1|2nd|      2|  aby|\n",
      "|--cte1| 24|--cte1|2nd|      2|  aby|\n",
      "|--cte1| 27|--cte1|2nd|      2|  aby|\n",
      "|--cte1| 42|--cte1|2nd|      2|  aby|\n",
      "|--cte1| 38|--cte1|2nd|      2|  aby|\n",
      "|--cte1| 61|--cte1|2nd|      2|  aby|\n",
      "|--cte1| 32|--cte1|2nd|      2|sarah|\n",
      "|--cte1| 30|--cte1|2nd|      2|sarah|\n",
      "|--cte1| 53|--cte1|2nd|      2|sarah|\n",
      "|--cte1| 45|--cte1|2nd|      2|sarah|\n",
      "|--cte1| 25|--cte1|2nd|      2|sarah|\n",
      "|--cte1| 28|--cte1|2nd|      2|sarah|\n",
      "|--cte1| 45|--cte1|2nd|      2|sarah|\n",
      "|--cte1| 25|--cte1|2nd|      2|sarah|\n",
      "|--cte1| 28|--cte1|2nd|      2|sarah|\n",
      "|--cte1| 28|--cte1|2nd|      2|sarah|\n",
      "|--cte1| 24|--cte1|2nd|      2|sarah|\n",
      "|--cte1| 27|--cte1|2nd|      2|sarah|\n",
      "|--cte1| 42|--cte1|2nd|      2|sarah|\n",
      "|--cte1| 38|--cte1|2nd|      2|sarah|\n",
      "|--cte1| 61|--cte1|2nd|      2|sarah|\n",
      "|--cte1| 32|--cte1|2nd|      3|  joe|\n",
      "|--cte1| 30|--cte1|2nd|      3|  joe|\n",
      "|--cte1| 53|--cte1|2nd|      3|  joe|\n",
      "|--cte1| 45|--cte1|2nd|      3|  joe|\n",
      "|--cte1| 25|--cte1|2nd|      3|  joe|\n",
      "|--cte1| 28|--cte1|2nd|      3|  joe|\n",
      "|--cte1| 45|--cte1|2nd|      3|  joe|\n",
      "|--cte1| 25|--cte1|2nd|      3|  joe|\n",
      "|--cte1| 28|--cte1|2nd|      3|  joe|\n",
      "|--cte1| 28|--cte1|2nd|      3|  joe|\n",
      "|--cte1| 24|--cte1|2nd|      3|  joe|\n",
      "|--cte1| 27|--cte1|2nd|      3|  joe|\n",
      "|--cte1| 42|--cte1|2nd|      3|  joe|\n",
      "|--cte1| 38|--cte1|2nd|      3|  joe|\n",
      "|--cte1| 61|--cte1|2nd|      3|  joe|\n",
      "|--cte1| 32|--cte1|2nd|      3| hari|\n",
      "|--cte1| 30|--cte1|2nd|      3| hari|\n",
      "|--cte1| 53|--cte1|2nd|      3| hari|\n",
      "|--cte1| 45|--cte1|2nd|      3| hari|\n",
      "|--cte1| 25|--cte1|2nd|      3| hari|\n",
      "|--cte1| 28|--cte1|2nd|      3| hari|\n",
      "|--cte1| 45|--cte1|2nd|      3| hari|\n",
      "|--cte1| 25|--cte1|2nd|      3| hari|\n",
      "|--cte1| 28|--cte1|2nd|      3| hari|\n",
      "|--cte1| 28|--cte1|2nd|      3| hari|\n",
      "|--cte1| 24|--cte1|2nd|      3| hari|\n",
      "|--cte1| 27|--cte1|2nd|      3| hari|\n",
      "|--cte1| 42|--cte1|2nd|      3| hari|\n",
      "|--cte1| 38|--cte1|2nd|      3| hari|\n",
      "|--cte1| 61|--cte1|2nd|      3| hari|\n",
      "|--cte1| 32|--cte1|2nd|      3|kumar|\n",
      "|--cte1| 30|--cte1|2nd|      3|kumar|\n",
      "|--cte1| 53|--cte1|2nd|      3|kumar|\n",
      "|--cte1| 45|--cte1|2nd|      3|kumar|\n",
      "|--cte1| 25|--cte1|2nd|      3|kumar|\n",
      "|--cte1| 28|--cte1|2nd|      3|kumar|\n",
      "|--cte1| 45|--cte1|2nd|      3|kumar|\n",
      "|--cte1| 25|--cte1|2nd|      3|kumar|\n",
      "|--cte1| 28|--cte1|2nd|      3|kumar|\n",
      "|--cte1| 28|--cte1|2nd|      3|kumar|\n",
      "|--cte1| 24|--cte1|2nd|      3|kumar|\n",
      "|--cte1| 27|--cte1|2nd|      3|kumar|\n",
      "|--cte1| 42|--cte1|2nd|      3|kumar|\n",
      "|--cte1| 38|--cte1|2nd|      3|kumar|\n",
      "|--cte1| 61|--cte1|2nd|      3|kumar|\n",
      "|--cte1| 32|--cte1|2nd|      4|james|\n",
      "|--cte1| 30|--cte1|2nd|      4|james|\n",
      "|--cte1| 53|--cte1|2nd|      4|james|\n",
      "|--cte1| 45|--cte1|2nd|      4|james|\n",
      "|--cte1| 25|--cte1|2nd|      4|james|\n",
      "|--cte1| 28|--cte1|2nd|      4|james|\n",
      "|--cte1| 45|--cte1|2nd|      4|james|\n",
      "|--cte1| 25|--cte1|2nd|      4|james|\n",
      "|--cte1| 28|--cte1|2nd|      4|james|\n",
      "|--cte1| 28|--cte1|2nd|      4|james|\n",
      "+------+---+------+---+-------+-----+\n",
      "only showing top 100 rows\n",
      "\n"
     ]
    }
   ],
   "source": [
    "spark.sql(\"\"\"\n",
    "WITH CTE1 AS (select '--cte1', age, '--cte1' from emp),\n",
    " CTE2 AS (select '--cte2', age, '--cte2' from emp)\n",
    "SELECT * FROM CTE1, (select '2nd', dept_id, name from EMP) CTE1\n",
    "WHERE name in (select name from emp CTE1 where CTE1.age >= 0) \n",
    "and age in (select CTE2.age from EMP CTE2 where CTE1.age = CTE2.age)\n",
    "\"\"\").show(100)"
   ]
  },
  {
   "cell_type": "code",
   "execution_count": 35,
   "metadata": {},
   "outputs": [],
   "source": [
    "parquetFile = spark.read.parquet(\"/tmp/file.parquet\")\n",
    "parquetFile.createOrReplaceTempView(\"parquetFile\")"
   ]
  },
  {
   "cell_type": "code",
   "execution_count": 36,
   "metadata": {
    "scrolled": true
   },
   "outputs": [
    {
     "data": {
      "text/plain": [
       "DataFrame[column_1: bigint, column_2: string, column_3: string]"
      ]
     },
     "execution_count": 36,
     "metadata": {},
     "output_type": "execute_result"
    }
   ],
   "source": [
    "parquetFile"
   ]
  },
  {
   "cell_type": "code",
   "execution_count": 37,
   "metadata": {
    "scrolled": false
   },
   "outputs": [
    {
     "data": {
      "text/plain": [
       "['column_1', 'column_2', 'column_3']"
      ]
     },
     "execution_count": 37,
     "metadata": {},
     "output_type": "execute_result"
    }
   ],
   "source": [
    "parquetFile.columns"
   ]
  },
  {
   "cell_type": "code",
   "execution_count": 38,
   "metadata": {
    "scrolled": true
   },
   "outputs": [
    {
     "name": "stdout",
     "output_type": "stream",
     "text": [
      "+--------+-----------+--------------------+\n",
      "|column_1|   column_2|            column_3|\n",
      "+--------+-----------+--------------------+\n",
      "|       1|    AMERICA|hs use ironic, ev...|\n",
      "|       2|       ASIA|ges. thinly even ...|\n",
      "|       3|     EUROPE|ly final courts c...|\n",
      "|       4|MIDDLE EAST|uickly special ac...|\n",
      "+--------+-----------+--------------------+\n",
      "\n"
     ]
    }
   ],
   "source": [
    "spark.sql(\"SELECT * FROM parquetFile\").show(100)"
   ]
  },
  {
   "cell_type": "code",
   "execution_count": 41,
   "metadata": {},
   "outputs": [
    {
     "data": {
      "text/plain": [
       "1"
      ]
     },
     "execution_count": 41,
     "metadata": {},
     "output_type": "execute_result"
    }
   ],
   "source": [
    "parquetFile.rdd.getNumPartitions()"
   ]
  },
  {
   "cell_type": "code",
   "execution_count": 42,
   "metadata": {},
   "outputs": [],
   "source": [
    "parquetFile.write.format(\"parquet\").partitionBy(\"column_2\").mode(\"overwrite\").save(\"/tmp/pqptns.parquet\")"
   ]
  },
  {
   "cell_type": "code",
   "execution_count": null,
   "metadata": {},
   "outputs": [],
   "source": []
  }
 ],
 "metadata": {
  "kernelspec": {
   "display_name": "Python 3",
   "language": "python",
   "name": "python3"
  },
  "language_info": {
   "codemirror_mode": {
    "name": "ipython",
    "version": 3
   },
   "file_extension": ".py",
   "mimetype": "text/x-python",
   "name": "python",
   "nbconvert_exporter": "python",
   "pygments_lexer": "ipython3",
   "version": "3.7.7"
  }
 },
 "nbformat": 4,
 "nbformat_minor": 2
}

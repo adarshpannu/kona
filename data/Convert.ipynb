{
 "cells": [
  {
   "cell_type": "code",
   "execution_count": 2,
   "metadata": {
    "tags": []
   },
   "outputs": [
    {
     "data": {
      "text/html": [
       "<style>.container { width:80% !important; } </style>"
      ],
      "text/plain": [
       "<IPython.core.display.HTML object>"
      ]
     },
     "metadata": {},
     "output_type": "display_data"
    }
   ],
   "source": [
    "import pandas as pd\n",
    "import matplotlib.pyplot as plt \n",
    "import numpy as np\n",
    "import os\n",
    "import pyarrow as pa\n",
    "import pyarrow.parquet as pq\n",
    "\n",
    "%matplotlib inline\n",
    "\n",
    "pd.set_option('max_colwidth', 512)\n",
    "pd.set_option('max_columns', 127)\n",
    "pd.set_option('display.max_rows', 100)\n",
    "pd.set_option('precision', 2)\n",
    "pd.options.display.float_format = '{:,.0f}'.format\n",
    "\n",
    "def show(n):         \n",
    "    pd.set_option('display.max_rows', n)\n",
    "    \n",
    "# Expand cell width to take up more space on the display\n",
    "from IPython.core.display import display, HTML\n",
    "display(HTML(\"<style>.container { width:80% !important; } </style>\"))\n",
    "\n",
    "# Enable multiple outputs from each cell\n",
    "from IPython.core.interactiveshell import InteractiveShell\n",
    "InteractiveShell.ast_node_interactivity = \"all\"\n"
   ]
  },
  {
   "cell_type": "code",
   "execution_count": 3,
   "metadata": {},
   "outputs": [],
   "source": [
    "def convert_csv_to_parquet(input_file_path, output_file_path, drop_option):\n",
    "    # Read CSV file into a Pandas DataFrame\n",
    "    df = pd.read_csv(input_file_path)\n",
    "\n",
    "    # Remove rows or columns with NaN fields based on the drop_option argument\n",
    "    if drop_option == 'row':\n",
    "        df = df.dropna()\n",
    "    elif drop_option == 'column':\n",
    "        df = df.dropna(axis=1)\n",
    "\n",
    "    # Convert Pandas DataFrame to PyArrow Table\n",
    "    table = pa.Table.from_pandas(df)\n",
    "\n",
    "    # Write PyArrow Table to Parquet file\n",
    "    pq.write_table(table, output_file_path)\n",
    "\n",
    "    # Open the Parquet file\n",
    "    table = pq.read_table(output_file_path)\n",
    "\n",
    "    # Convert the table to a Pandas DataFrame\n",
    "    df = table.to_pandas()\n",
    "\n",
    "    # Print the DataFrame\n",
    "    print(df.head(100))\n"
   ]
  },
  {
   "cell_type": "code",
   "execution_count": 4,
   "metadata": {},
   "outputs": [
    {
     "name": "stdout",
     "output_type": "stream",
     "text": [
      "\u001b[31mConvert.ipynb\u001b[m\u001b[m    T.csv            dept_details.csv \u001b[34mnorthwind\u001b[m\u001b[m\n",
      "R.csv            datatypes.csv    emp.csv          \u001b[34mtpch0.01\u001b[m\u001b[m\n",
      "S.csv            dept.csv         \u001b[34mempdir\u001b[m\u001b[m\n"
     ]
    }
   ],
   "source": [
    "!ls"
   ]
  },
  {
   "cell_type": "code",
   "execution_count": 5,
   "metadata": {},
   "outputs": [
    {
     "name": "stdout",
     "output_type": "stream",
     "text": [
      "      name  age  emp_dept_id\n",
      "0     john   37            1\n",
      "1    sarah   53            2\n",
      "2     ruby   53            2\n",
      "3      joe   45            3\n",
      "4     hari   25            3\n",
      "5    kumar   28            3\n",
      "6    james   45            4\n",
      "7     rani   25            4\n",
      "8   piyush   28            4\n",
      "9     ajay   28            4\n",
      "10  ramani   24            5\n",
      "11  adarsh   27            2\n",
      "12    kate   42            5\n",
      "13   shawn   39            5\n",
      "14  ramesh   22            5\n",
      "15   kiran   61            4\n"
     ]
    }
   ],
   "source": [
    "input_file_path = 'emp.csv'\n",
    "output_file_path = 'emp.parquet'\n",
    "drop_option = 'none'  # options: 'row' or 'column' or 'none'\n",
    "\n",
    "convert_csv_to_parquet(input_file_path, output_file_path, drop_option)"
   ]
  },
  {
   "cell_type": "code",
   "execution_count": 6,
   "metadata": {},
   "outputs": [
    {
     "name": "stdout",
     "output_type": "stream",
     "text": [
      "\u001b[31mConvert.ipynb\u001b[m\u001b[m    T.csv            dept_details.csv \u001b[34mempdir\u001b[m\u001b[m\n",
      "R.csv            datatypes.csv    emp.csv          \u001b[34mnorthwind\u001b[m\u001b[m\n",
      "S.csv            dept.csv         emp.parquet      \u001b[34mtpch0.01\u001b[m\u001b[m\n"
     ]
    }
   ],
   "source": [
    "!ls"
   ]
  },
  {
   "cell_type": "code",
   "execution_count": null,
   "metadata": {},
   "outputs": [],
   "source": []
  }
 ],
 "metadata": {
  "anaconda-cloud": {},
  "kernelspec": {
   "display_name": "Python 3 (ipykernel)",
   "language": "python",
   "name": "python3"
  },
  "language_info": {
   "codemirror_mode": {
    "name": "ipython",
    "version": 3
   },
   "file_extension": ".py",
   "mimetype": "text/x-python",
   "name": "python",
   "nbconvert_exporter": "python",
   "pygments_lexer": "ipython3",
   "version": "3.7.7"
  }
 },
 "nbformat": 4,
 "nbformat_minor": 4
}

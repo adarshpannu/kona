{
 "cells": [
  {
   "cell_type": "code",
   "execution_count": 29,
   "metadata": {
    "tags": []
   },
   "outputs": [
    {
     "data": {
      "text/html": [
       "<style>.container { width:80% !important; } </style>"
      ],
      "text/plain": [
       "<IPython.core.display.HTML object>"
      ]
     },
     "metadata": {},
     "output_type": "display_data"
    }
   ],
   "source": [
    "import pandas as pd\n",
    "import matplotlib.pyplot as plt \n",
    "import numpy as np\n",
    "import os\n",
    "import pyarrow as pa\n",
    "import pyarrow.parquet as pq\n",
    "\n",
    "%matplotlib inline\n",
    "\n",
    "pd.set_option('max_colwidth', 512)\n",
    "pd.set_option('max_columns', 127)\n",
    "pd.set_option('display.max_rows', 100)\n",
    "pd.set_option('precision', 2)\n",
    "pd.options.display.float_format = '{:,.0f}'.format\n",
    "\n",
    "def show(n):         \n",
    "    pd.set_option('display.max_rows', n)\n",
    "    \n",
    "# Expand cell width to take up more space on the display\n",
    "from IPython.core.display import display, HTML\n",
    "display(HTML(\"<style>.container { width:80% !important; } </style>\"))\n",
    "\n",
    "# Enable multiple outputs from each cell\n",
    "from IPython.core.interactiveshell import InteractiveShell\n",
    "InteractiveShell.ast_node_interactivity = \"all\"\n"
   ]
  },
  {
   "cell_type": "code",
   "execution_count": 30,
   "metadata": {},
   "outputs": [],
   "source": [
    "def convert_csv_to_parquet(input_file_path, output_file_path, drop_option, delimiter=None, columns_file_path=None):\n",
    "    # Read CSV file into a Pandas DataFrame\n",
    "    df = pd.read_csv(input_file_path, delimiter=delimiter)\n",
    "    if columns_file_path is not None:\n",
    "        df.columns = list(pd.read_csv(columns_file_path, header=None)[0])\n",
    "\n",
    "    # Remove rows or columns with NaN fields based on the drop_option argument\n",
    "    if drop_option == 'row':\n",
    "        df = df.dropna()\n",
    "    elif drop_option == 'column':\n",
    "        df = df.dropna(axis=1)\n",
    "\n",
    "    # Convert Pandas DataFrame to PyArrow Table\n",
    "    table = pa.Table.from_pandas(df)\n",
    "\n",
    "    # Write PyArrow Table to Parquet file\n",
    "    pq.write_table(table, output_file_path)\n",
    "\n",
    "    # Open the Parquet file\n",
    "    table = pq.read_table(output_file_path)\n",
    "\n",
    "    # Convert the table to a Pandas DataFrame\n",
    "    df = table.to_pandas()\n",
    "\n",
    "    # Print the DataFrame\n",
    "    print(df.head(5))\n"
   ]
  },
  {
   "cell_type": "code",
   "execution_count": 31,
   "metadata": {},
   "outputs": [
    {
     "name": "stdout",
     "output_type": "stream",
     "text": [
      "customer.parquet lineitem.tbl     part.tbl         supplier.tbl\n",
      "customer.tbl     nation.tbl       partsupp.tbl\n",
      "lineitem.parquet orders.tbl       region.tbl\n"
     ]
    }
   ],
   "source": [
    "!ls /Users/adarshrp/Projects/tpch-data/sf0.01"
   ]
  },
  {
   "cell_type": "code",
   "execution_count": 32,
   "metadata": {},
   "outputs": [
    {
     "name": "stdout",
     "output_type": "stream",
     "text": [
      "   L_ORDERKEY  L_PARTKEY  L_SUPPKEY  L_LINENUMBER  L_QUANTITY  \\\n",
      "0           1        674         75             2          36   \n",
      "1           1        637         38             3           8   \n",
      "2           1         22         48             4          28   \n",
      "3           1        241         23             5          24   \n",
      "4           1        157         10             6          32   \n",
      "\n",
      "   L_EXTENDEDPRICE  L_DISCOUNT  L_TAX L_RETURNFLAG L_LINESTATUS  L_SHIPDATE  \\\n",
      "0           56,688           0      0            N            O  1996-04-12   \n",
      "1           12,301           0      0            N            O  1996-01-29   \n",
      "2           25,817           0      0            N            O  1996-04-21   \n",
      "3           27,390           0      0            N            O  1996-03-30   \n",
      "4           33,829           0      0            N            O  1996-01-30   \n",
      "\n",
      "  L_COMMITDATE L_RECEIPTDATE     L_SHIPINSTRUCT L_SHIPMODE  \\\n",
      "0   1996-02-28    1996-04-20   TAKE BACK RETURN       MAIL   \n",
      "1   1996-03-05    1996-01-31   TAKE BACK RETURN    REG AIR   \n",
      "2   1996-03-30    1996-05-16               NONE        AIR   \n",
      "3   1996-03-14    1996-04-01               NONE        FOB   \n",
      "4   1996-02-07    1996-02-03  DELIVER IN PERSON       MAIL   \n",
      "\n",
      "                            L_COMMENT  \n",
      "0  ly final dependencies: slyly bold   \n",
      "1       riously. regular, express dep  \n",
      "2             lites. fluffily even de  \n",
      "3             pending foxes. slyly re  \n",
      "4                   arefully slyly ex  \n"
     ]
    }
   ],
   "source": [
    "input_file_path = '/Users/adarshrp/Projects/tpch-data/sf0.01/lineitem.tbl'\n",
    "output_file_path = '/Users/adarshrp/Projects/tpch-data/sf0.01/lineitem.parquet'\n",
    "columns_file_path = '/Users/adarshrp/Projects/tpch-data/columns/lineitem'\n",
    "drop_option = 'none'  # options: 'row' or 'column' or 'none'\n",
    "\n",
    "convert_csv_to_parquet(input_file_path, output_file_path, drop_option, delimiter=\"|\", columns_file_path=columns_file_path)"
   ]
  }
 ],
 "metadata": {
  "anaconda-cloud": {},
  "kernelspec": {
   "display_name": "Python 3 (ipykernel)",
   "language": "python",
   "name": "python3"
  },
  "language_info": {
   "codemirror_mode": {
    "name": "ipython",
    "version": 3
   },
   "file_extension": ".py",
   "mimetype": "text/x-python",
   "name": "python",
   "nbconvert_exporter": "python",
   "pygments_lexer": "ipython3",
   "version": "3.7.7"
  }
 },
 "nbformat": 4,
 "nbformat_minor": 4
}

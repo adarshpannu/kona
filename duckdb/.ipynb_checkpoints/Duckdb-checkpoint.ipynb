{
 "cells": [
  {
   "cell_type": "markdown",
   "metadata": {},
   "source": [
    "### Read TPCH Data"
   ]
  },
  {
   "cell_type": "code",
   "execution_count": 1,
   "metadata": {},
   "outputs": [
    {
     "name": "stdout",
     "output_type": "stream",
     "text": [
      "\u001b[33mThere's a new jupysql version available (0.10.1), you're running 0.9.0. To upgrade: pip install jupysql --upgrade\u001b[0m\n"
     ]
    }
   ],
   "source": [
    "import duckdb\n",
    "import pandas as pd\n",
    "# No need to import duckdb_engine\n",
    "#  jupysql will auto-detect the driver needed based on the connection string!\n",
    "import pyarrow.parquet as pq\n",
    "\n",
    "# Import jupysql Jupyter extension to create SQL cells\n",
    "%load_ext sql\n"
   ]
  },
  {
   "cell_type": "code",
   "execution_count": 2,
   "metadata": {},
   "outputs": [],
   "source": [
    "%config SqlMagic.autopandas = True\n",
    "%config SqlMagic.feedback = False\n",
    "%config SqlMagic.displaycon = False"
   ]
  },
  {
   "cell_type": "code",
   "execution_count": 3,
   "metadata": {},
   "outputs": [],
   "source": [
    "%sql duckdb:///:default:"
   ]
  },
  {
   "cell_type": "code",
   "execution_count": 4,
   "metadata": {},
   "outputs": [],
   "source": [
    "tables = [\"customer\", \"lineitem\", \"nation\", \"orders\", \"part\", \"partsupp\", \"region\", \"supplier\"]\n",
    "SF=10"
   ]
  },
  {
   "cell_type": "code",
   "execution_count": 5,
   "metadata": {},
   "outputs": [
    {
     "name": "stdout",
     "output_type": "stream",
     "text": [
      "\n",
      "    CREATE OR REPLACE VIEW customer AS SELECT * FROM read_parquet(\"/Users/adarshrp/Projects/tpch-data/sf10/customer.parquet\");\n",
      "    \n",
      "\n",
      "    CREATE OR REPLACE VIEW lineitem AS SELECT * FROM read_parquet(\"/Users/adarshrp/Projects/tpch-data/sf10/lineitem.parquet\");\n",
      "    \n",
      "\n",
      "    CREATE OR REPLACE VIEW nation AS SELECT * FROM read_parquet(\"/Users/adarshrp/Projects/tpch-data/sf10/nation.parquet\");\n",
      "    \n",
      "\n",
      "    CREATE OR REPLACE VIEW orders AS SELECT * FROM read_parquet(\"/Users/adarshrp/Projects/tpch-data/sf10/orders.parquet\");\n",
      "    \n",
      "\n",
      "    CREATE OR REPLACE VIEW part AS SELECT * FROM read_parquet(\"/Users/adarshrp/Projects/tpch-data/sf10/part.parquet\");\n",
      "    \n",
      "\n",
      "    CREATE OR REPLACE VIEW partsupp AS SELECT * FROM read_parquet(\"/Users/adarshrp/Projects/tpch-data/sf10/partsupp.parquet\");\n",
      "    \n",
      "\n",
      "    CREATE OR REPLACE VIEW region AS SELECT * FROM read_parquet(\"/Users/adarshrp/Projects/tpch-data/sf10/region.parquet\");\n",
      "    \n",
      "\n",
      "    CREATE OR REPLACE VIEW supplier AS SELECT * FROM read_parquet(\"/Users/adarshrp/Projects/tpch-data/sf10/supplier.parquet\");\n",
      "    \n"
     ]
    }
   ],
   "source": [
    "TGTDIR = f\"/Users/adarshrp/Projects/tpch-data/sf{SF}\"\n",
    "\n",
    "for t in tables:\n",
    "    sqlstr = f\"\"\"\n",
    "    CREATE OR REPLACE VIEW {t} AS SELECT * FROM read_parquet(\"{TGTDIR}/{t}.parquet\");\n",
    "    \"\"\"\n",
    "    print(sqlstr)\n",
    "    duckdb.sql(sqlstr)\n"
   ]
  },
  {
   "cell_type": "code",
   "execution_count": 6,
   "metadata": {},
   "outputs": [
    {
     "data": {
      "text/html": [
       "<div>\n",
       "<style scoped>\n",
       "    .dataframe tbody tr th:only-of-type {\n",
       "        vertical-align: middle;\n",
       "    }\n",
       "\n",
       "    .dataframe tbody tr th {\n",
       "        vertical-align: top;\n",
       "    }\n",
       "\n",
       "    .dataframe thead th {\n",
       "        text-align: right;\n",
       "    }\n",
       "</style>\n",
       "<table border=\"1\" class=\"dataframe\">\n",
       "  <thead>\n",
       "    <tr style=\"text-align: right;\">\n",
       "      <th></th>\n",
       "      <th>count_star()</th>\n",
       "    </tr>\n",
       "  </thead>\n",
       "  <tbody>\n",
       "    <tr>\n",
       "      <th>0</th>\n",
       "      <td>25</td>\n",
       "    </tr>\n",
       "  </tbody>\n",
       "</table>\n",
       "</div>"
      ],
      "text/plain": [
       "   count_star()\n",
       "0            25"
      ]
     },
     "execution_count": 6,
     "metadata": {},
     "output_type": "execute_result"
    }
   ],
   "source": [
    "%sql SELECT count(*) from nation;"
   ]
  },
  {
   "cell_type": "code",
   "execution_count": 7,
   "metadata": {},
   "outputs": [
    {
     "data": {
      "application/vnd.jupyter.widget-view+json": {
       "model_id": "a801e24a5ae247a5a999f335634a4797",
       "version_major": 2,
       "version_minor": 0
      },
      "text/plain": [
       "FloatProgress(value=0.0, layout=Layout(width='auto'), style=ProgressStyle(bar_color='black'))"
      ]
     },
     "metadata": {},
     "output_type": "display_data"
    },
    {
     "name": "stdout",
     "output_type": "stream",
     "text": [
      "CPU times: user 3.81 s, sys: 108 ms, total: 3.92 s\n",
      "Wall time: 3.91 s\n"
     ]
    },
    {
     "data": {
      "text/plain": [
       "┌──────────────┬──────────────┬─────────────┬───┬────────────────────┬──────────────────────┬─────────────┐\n",
       "│ l_returnflag │ l_linestatus │   SUM_QTY   │ … │     AVG_PRICE      │       AVG_DISC       │ COUNT_ORDER │\n",
       "│   varchar    │   varchar    │   double    │   │       double       │        double        │    int64    │\n",
       "├──────────────┼──────────────┼─────────────┼───┼────────────────────┼──────────────────────┼─────────────┤\n",
       "│ N            │ O            │ 764635193.0 │ … │  38233.85393407358 │ 0.050001036771283126 │    29987794 │\n",
       "│ R            │ F            │ 377732830.0 │ … │ 38251.219273561284 │  0.04999679231663862 │    14808183 │\n",
       "│ A            │ F            │ 377518399.0 │ … │   38237.1510089518 │ 0.050006574542790186 │    14804077 │\n",
       "│ N            │ F            │   9851614.0 │ … │   38257.8106600817 │ 0.049973367737715525 │      385998 │\n",
       "├──────────────┴──────────────┴─────────────┴───┴────────────────────┴──────────────────────┴─────────────┤\n",
       "│ 4 rows                                                                             10 columns (6 shown) │\n",
       "└─────────────────────────────────────────────────────────────────────────────────────────────────────────┘"
      ]
     },
     "execution_count": 7,
     "metadata": {},
     "output_type": "execute_result"
    }
   ],
   "source": [
    "sqlstr = \"\"\"\n",
    "SET threads TO 10;\n",
    "\n",
    "SELECT L_RETURNFLAG, L_LINESTATUS, SUM(L_QUANTITY) AS SUM_QTY,\n",
    "SUM(L_EXTENDEDPRICE) AS SUM_BASE_PRICE, SUM(L_EXTENDEDPRICE*(-L_DISCOUNT + 1.0)) AS SUM_DISC_PRICE,\n",
    "SUM(L_EXTENDEDPRICE*(-L_DISCOUNT + 1.0)*(L_TAX + 1.0)) AS SUM_CHARGE, AVG(L_QUANTITY) AS AVG_QTY,\n",
    "AVG(L_EXTENDEDPRICE) AS AVG_PRICE, AVG(L_DISCOUNT) AS AVG_DISC, COUNT(L_QUANTITY) AS COUNT_ORDER\n",
    "FROM LINEITEM\n",
    "--WHERE L_SHIPDATE <= '1998-12-01'\n",
    "GROUP BY L_RETURNFLAG, L_LINESTATUS;\n",
    "\"\"\"\n",
    "\n",
    "%time duckdb.sql(sqlstr)"
   ]
  },
  {
   "cell_type": "code",
   "execution_count": 8,
   "metadata": {},
   "outputs": [
    {
     "name": "stdout",
     "output_type": "stream",
     "text": [
      "CPU times: user 392 µs, sys: 103 µs, total: 495 µs\n",
      "Wall time: 499 µs\n"
     ]
    },
    {
     "data": {
      "text/plain": [
       "┌──────────────────────┐\n",
       "│ sum(L_EXTENDEDPRICE) │\n",
       "│        double        │\n",
       "├──────────────────────┤\n",
       "│    2293813156772.914 │\n",
       "└──────────────────────┘"
      ]
     },
     "execution_count": 8,
     "metadata": {},
     "output_type": "execute_result"
    }
   ],
   "source": [
    "sqlstr = \"\"\"\n",
    "SELECT SUM(L_EXTENDEDPRICE) \n",
    "FROM LINEITEM\n",
    "\"\"\"\n",
    "\n",
    "%time duckdb.sql(sqlstr)"
   ]
  },
  {
   "cell_type": "code",
   "execution_count": 9,
   "metadata": {},
   "outputs": [
    {
     "name": "stdout",
     "output_type": "stream",
     "text": [
      "CPU times: user 376 µs, sys: 66 µs, total: 442 µs\n",
      "Wall time: 447 µs\n"
     ]
    },
    {
     "data": {
      "text/plain": [
       "┌──────────────┐\n",
       "│ count_star() │\n",
       "│    int64     │\n",
       "├──────────────┤\n",
       "│     59986052 │\n",
       "└──────────────┘"
      ]
     },
     "execution_count": 9,
     "metadata": {},
     "output_type": "execute_result"
    }
   ],
   "source": [
    "sqlstr = \"\"\"\n",
    "SELECT count(*)\n",
    "FROM LINEITEM\n",
    "\"\"\"\n",
    "\n",
    "%time duckdb.sql(sqlstr)"
   ]
  },
  {
   "cell_type": "code",
   "execution_count": 10,
   "metadata": {},
   "outputs": [
    {
     "data": {
      "application/vnd.jupyter.widget-view+json": {
       "model_id": "17fe483a050e484a9392219163310a39",
       "version_major": 2,
       "version_minor": 0
      },
      "text/plain": [
       "FloatProgress(value=0.0, layout=Layout(width='auto'), style=ProgressStyle(bar_color='black'))"
      ]
     },
     "metadata": {},
     "output_type": "display_data"
    },
    {
     "name": "stdout",
     "output_type": "stream",
     "text": [
      "CPU times: user 3.25 s, sys: 96.7 ms, total: 3.35 s\n",
      "Wall time: 3.34 s\n"
     ]
    },
    {
     "data": {
      "text/plain": [
       "┌───────────────────┬───────────────────┬──────────────┬───┬───────────────────┬─────────────────────┬─────────────┐\n",
       "│ max(L_RETURNFLAG) │ max(L_LINESTATUS) │   SUM_QTY    │ … │     AVG_PRICE     │      AVG_DISC       │ COUNT_ORDER │\n",
       "│      varchar      │      varchar      │    double    │   │      double       │       double        │    int64    │\n",
       "├───────────────────┼───────────────────┼──────────────┼───┼───────────────────┼─────────────────────┼─────────────┤\n",
       "│ R                 │ O                 │ 1529738036.0 │ … │ 38239.10859766057 │ 0.05000117760660247 │    59986052 │\n",
       "├───────────────────┴───────────────────┴──────────────┴───┴───────────────────┴─────────────────────┴─────────────┤\n",
       "│ 1 rows                                                                                      10 columns (6 shown) │\n",
       "└──────────────────────────────────────────────────────────────────────────────────────────────────────────────────┘"
      ]
     },
     "execution_count": 10,
     "metadata": {},
     "output_type": "execute_result"
    }
   ],
   "source": [
    "sqlstr = \"\"\"\n",
    "SET threads TO 20;\n",
    "\n",
    "SELECT MAX(L_RETURNFLAG), MAX(L_LINESTATUS), SUM(L_QUANTITY) AS SUM_QTY,\n",
    "SUM(L_EXTENDEDPRICE) AS SUM_BASE_PRICE, SUM(L_EXTENDEDPRICE*(-L_DISCOUNT + 1.0)) AS SUM_DISC_PRICE,\n",
    "SUM(L_EXTENDEDPRICE*(-L_DISCOUNT + 1.0)*(L_TAX + 1.0)) AS SUM_CHARGE, AVG(L_QUANTITY) AS AVG_QTY,\n",
    "AVG(L_EXTENDEDPRICE) AS AVG_PRICE, AVG(L_DISCOUNT) AS AVG_DISC, COUNT(L_QUANTITY) AS COUNT_ORDER\n",
    "FROM LINEITEM\n",
    "\"\"\"\n",
    "\n",
    "%time duckdb.sql(sqlstr)"
   ]
  },
  {
   "cell_type": "code",
   "execution_count": 11,
   "metadata": {},
   "outputs": [
    {
     "data": {
      "application/vnd.jupyter.widget-view+json": {
       "model_id": "5965ae31fd4b48df9669e9144527fc10",
       "version_major": 2,
       "version_minor": 0
      },
      "text/plain": [
       "FloatProgress(value=0.0, layout=Layout(width='auto'), style=ProgressStyle(bar_color='black'))"
      ]
     },
     "metadata": {},
     "output_type": "display_data"
    },
    {
     "name": "stdout",
     "output_type": "stream",
     "text": [
      "CPU times: user 3.79 s, sys: 118 ms, total: 3.9 s\n",
      "Wall time: 3.89 s\n"
     ]
    },
    {
     "data": {
      "text/plain": [
       "┌───────────────────┬───────────────────┬──────────────┬────────────┬─────────────────┬────────────────────┐\n",
       "│ max(L_RETURNFLAG) │ max(L_LINESTATUS) │   SUM_QTY    │ max(L_TAX) │ max(L_SHIPDATE) │     SUM_CHARGE     │\n",
       "│      varchar      │      varchar      │    double    │   double   │      date       │       double       │\n",
       "├───────────────────┼───────────────────┼──────────────┼────────────┼─────────────────┼────────────────────┤\n",
       "│ R                 │ O                 │ 1529738036.0 │       0.08 │ 1998-12-01      │ 2266298704206.5015 │\n",
       "└───────────────────┴───────────────────┴──────────────┴────────────┴─────────────────┴────────────────────┘"
      ]
     },
     "execution_count": 11,
     "metadata": {},
     "output_type": "execute_result"
    }
   ],
   "source": [
    "sqlstr = \"\"\"\n",
    "SET threads TO 20;\n",
    "\n",
    "SELECT MAX(L_RETURNFLAG), MAX(L_LINESTATUS), SUM(L_QUANTITY) AS SUM_QTY, MAX(L_TAX), MAX(L_SHIPDATE),\n",
    "SUM(L_EXTENDEDPRICE*(-L_DISCOUNT + 1.0)*(L_TAX + 1.0)) AS SUM_CHARGE\n",
    "FROM LINEITEM\n",
    "\"\"\"\n",
    "\n",
    "%time duckdb.sql(sqlstr)"
   ]
  },
  {
   "cell_type": "code",
   "execution_count": 12,
   "metadata": {},
   "outputs": [
    {
     "data": {
      "application/vnd.jupyter.widget-view+json": {
       "model_id": "85ff732f70384c678ce602d0718d0903",
       "version_major": 2,
       "version_minor": 0
      },
      "text/plain": [
       "FloatProgress(value=0.0, layout=Layout(width='auto'), style=ProgressStyle(bar_color='black'))"
      ]
     },
     "metadata": {},
     "output_type": "display_data"
    },
    {
     "name": "stdout",
     "output_type": "stream",
     "text": [
      "CPU times: user 3.14 s, sys: 88.7 ms, total: 3.22 s\n",
      "Wall time: 3.21 s\n"
     ]
    },
    {
     "data": {
      "text/plain": [
       "┌───────────────────┬───────────────────┬──────────────┬────────────┬────────────────────┐\n",
       "│ max(L_RETURNFLAG) │ max(L_LINESTATUS) │   SUM_QTY    │ max(L_TAX) │     SUM_CHARGE     │\n",
       "│      varchar      │      varchar      │    double    │   double   │       double       │\n",
       "├───────────────────┼───────────────────┼──────────────┼────────────┼────────────────────┤\n",
       "│ R                 │ O                 │ 1529738036.0 │       0.08 │ 2266298704206.5015 │\n",
       "└───────────────────┴───────────────────┴──────────────┴────────────┴────────────────────┘"
      ]
     },
     "execution_count": 12,
     "metadata": {},
     "output_type": "execute_result"
    }
   ],
   "source": [
    "sqlstr = \"\"\"\n",
    "SET threads TO 20;\n",
    "\n",
    "SELECT MAX(L_RETURNFLAG), MAX(L_LINESTATUS), SUM(L_QUANTITY) AS SUM_QTY, MAX(L_TAX),\n",
    "SUM(L_EXTENDEDPRICE*(-L_DISCOUNT + 1.0)*(L_TAX + 1.0)) AS SUM_CHARGE\n",
    "FROM LINEITEM\n",
    "\"\"\"\n",
    "\n",
    "%time duckdb.sql(sqlstr)"
   ]
  },
  {
   "cell_type": "code",
   "execution_count": 14,
   "metadata": {},
   "outputs": [
    {
     "name": "stdout",
     "output_type": "stream",
     "text": [
      "CPU times: user 326 µs, sys: 80 µs, total: 406 µs\n",
      "Wall time: 413 µs\n"
     ]
    },
    {
     "data": {
      "text/plain": [
       "┌──────────────────┐\n",
       "│ count(L_PARTKEY) │\n",
       "│      int64       │\n",
       "├──────────────────┤\n",
       "│         59986052 │\n",
       "└──────────────────┘"
      ]
     },
     "execution_count": 14,
     "metadata": {},
     "output_type": "execute_result"
    }
   ],
   "source": [
    "sqlstr = \"\"\"\n",
    "SELECT COUNT(L_PARTKEY) FROM LINEITEM\n",
    "\"\"\"\n",
    "\n",
    "%time duckdb.sql(sqlstr)"
   ]
  },
  {
   "cell_type": "code",
   "execution_count": 16,
   "metadata": {},
   "outputs": [
    {
     "name": "stderr",
     "output_type": "stream",
     "text": [
      "RuntimeError: (duckdb.InvalidInputException) Invalid Input Error: Attempting to execute an unsuccessful or closed pending query result\n",
      "Error: Invalid Error: Current transaction is aborted (please ROLLBACK)\n",
      "[SQL: SELECT * FROM parquet_metadata('/Users/adarshrp/Projects/tpch-data/sf1/lineitem.parquet');]\n",
      "(Background on this error at: https://sqlalche.me/e/20/f405)\n",
      "If you need help solving this issue, send us a message: https://ploomber.io/community\n"
     ]
    }
   ],
   "source": [
    "%sql SELECT * FROM parquet_metadata('/Users/adarshrp/Projects/tpch-data/sf1/lineitem.parquet');\n",
    "\n"
   ]
  },
  {
   "cell_type": "code",
   "execution_count": null,
   "metadata": {},
   "outputs": [],
   "source": []
  }
 ],
 "metadata": {
  "kernelspec": {
   "display_name": "Python 3 (ipykernel)",
   "language": "python",
   "name": "python3"
  },
  "language_info": {
   "codemirror_mode": {
    "name": "ipython",
    "version": 3
   },
   "file_extension": ".py",
   "mimetype": "text/x-python",
   "name": "python",
   "nbconvert_exporter": "python",
   "pygments_lexer": "ipython3",
   "version": "3.7.7"
  }
 },
 "nbformat": 4,
 "nbformat_minor": 4
}

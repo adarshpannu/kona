{
 "cells": [
  {
   "cell_type": "markdown",
   "metadata": {},
   "source": [
    "# Scratch"
   ]
  },
  {
   "cell_type": "markdown",
   "metadata": {},
   "source": [
    "### Read TPCH Data"
   ]
  },
  {
   "cell_type": "code",
   "execution_count": 18,
   "metadata": {},
   "outputs": [],
   "source": []
  },
  {
   "cell_type": "code",
   "execution_count": 1,
   "metadata": {},
   "outputs": [],
   "source": [
    "import duckdb\n",
    "import pandas as pd\n",
    "# No need to import duckdb_engine\n",
    "#  jupysql will auto-detect the driver needed based on the connection string!\n",
    "\n",
    "# Import jupysql Jupyter extension to create SQL cells\n",
    "%load_ext sql\n"
   ]
  },
  {
   "cell_type": "code",
   "execution_count": null,
   "metadata": {},
   "outputs": [],
   "source": []
  },
  {
   "cell_type": "code",
   "execution_count": 2,
   "metadata": {},
   "outputs": [],
   "source": [
    "%config SqlMagic.autopandas = True\n",
    "%config SqlMagic.feedback = False\n",
    "%config SqlMagic.displaycon = False\n"
   ]
  },
  {
   "cell_type": "code",
   "execution_count": 62,
   "metadata": {},
   "outputs": [
    {
     "data": {
      "text/html": [
       "<span style=\"None\">Switching to connection duckdb:///:default:</span>"
      ],
      "text/plain": [
       "Switching to connection duckdb:///:default:"
      ]
     },
     "metadata": {},
     "output_type": "display_data"
    }
   ],
   "source": [
    "%sql duckdb:///:default:\n"
   ]
  },
  {
   "cell_type": "code",
   "execution_count": 63,
   "metadata": {},
   "outputs": [],
   "source": [
    "sqlstr = \"\"\"\n",
    "DROP VIEW EMP;\n",
    "CREATE VIEW EMP AS SELECT * FROM read_parquet(\"/Users/adarshrp/Projects/yard/data/emp.parquet\");\n",
    "\n",
    "DROP VIEW LINEITEM;\n",
    "CREATE VIEW LINEITEM AS SELECT * FROM read_parquet(\"/Users/adarshrp/Downloads/part-0.parquet\")\"\"\"\n",
    "\n",
    "duckdb.sql(sqlstr)\n",
    "\n"
   ]
  },
  {
   "cell_type": "code",
   "execution_count": 64,
   "metadata": {},
   "outputs": [
    {
     "data": {
      "text/html": [
       "<div>\n",
       "<style scoped>\n",
       "    .dataframe tbody tr th:only-of-type {\n",
       "        vertical-align: middle;\n",
       "    }\n",
       "\n",
       "    .dataframe tbody tr th {\n",
       "        vertical-align: top;\n",
       "    }\n",
       "\n",
       "    .dataframe thead th {\n",
       "        text-align: right;\n",
       "    }\n",
       "</style>\n",
       "<table border=\"1\" class=\"dataframe\">\n",
       "  <thead>\n",
       "    <tr style=\"text-align: right;\">\n",
       "      <th></th>\n",
       "      <th>count_star()</th>\n",
       "    </tr>\n",
       "  </thead>\n",
       "  <tbody>\n",
       "    <tr>\n",
       "      <th>0</th>\n",
       "      <td>16</td>\n",
       "    </tr>\n",
       "  </tbody>\n",
       "</table>\n",
       "</div>"
      ],
      "text/plain": [
       "   count_star()\n",
       "0            16"
      ]
     },
     "execution_count": 64,
     "metadata": {},
     "output_type": "execute_result"
    }
   ],
   "source": [
    "%sql SELECT count(*) from EMP;"
   ]
  },
  {
   "cell_type": "code",
   "execution_count": 33,
   "metadata": {},
   "outputs": [
    {
     "data": {
      "text/plain": [
       "┌─────────────────┬─────────┐\n",
       "│ sum(L_QUANTITY) │ SUM_QTY │\n",
       "│     double      │  int64  │\n",
       "├─────────────────┼─────────┤\n",
       "│       2469473.0 │   96913 │\n",
       "│       2484642.0 │   97205 │\n",
       "│       5074639.0 │  199098 │\n",
       "└─────────────────┴─────────┘"
      ]
     },
     "execution_count": 33,
     "metadata": {},
     "output_type": "execute_result"
    }
   ],
   "source": [
    "sqlstr = \"\"\"\n",
    "SELECT SUM(L_QUANTITY), COUNT(L_QUANTITY) AS SUM_QTY\n",
    "FROM \"/Users/adarshrp/Downloads/part-0.parquet\"\n",
    "GROUP BY L_RETURNFLAG;\n",
    "\"\"\"\n",
    "\n",
    "duckdb.sql(sqlstr)"
   ]
  },
  {
   "cell_type": "code",
   "execution_count": null,
   "metadata": {},
   "outputs": [],
   "source": [
    "\"\"\"R\"\"\",\"\"\"F\"\"\",2469473.0,\"\"\"F\"\"\",\"\"\"F\"\"\"\n",
    "\"\"\"A\"\"\",\"\"\"F\"\"\",2484642.0,\"\"\"F\"\"\",\"\"\"F\"\"\"\n",
    "\"\"\"N\"\"\",\"\"\"O\"\"\",5009601.0,\"\"\"O\"\"\",\"\"\"O\"\"\"\n",
    "\"\"\"N\"\"\",\"\"\"F\"\"\",65038.0,\"\"\"F\"\"\",\"\"\"F\"\"\""
   ]
  },
  {
   "cell_type": "code",
   "execution_count": 41,
   "metadata": {},
   "outputs": [
    {
     "data": {
      "text/plain": [
       "┌─────────────────┐\n",
       "│ min(L_SHIPDATE) │\n",
       "│      date       │\n",
       "├─────────────────┤\n",
       "│ 1992-01-02      │\n",
       "└─────────────────┘"
      ]
     },
     "execution_count": 41,
     "metadata": {},
     "output_type": "execute_result"
    }
   ],
   "source": [
    "sqlstr = \"\"\"\n",
    "SELECT MIN(L_SHIPDATE)\n",
    "FROM \"/Users/adarshrp/Downloads/part-0.parquet\"\n",
    "\"\"\"\n",
    "\n",
    "duckdb.sql(sqlstr)"
   ]
  },
  {
   "cell_type": "code",
   "execution_count": 82,
   "metadata": {},
   "outputs": [
    {
     "data": {
      "text/plain": [
       "┌──────────────┬──────────────┬───────────┬───┬────────────────────┬──────────────────────┬─────────────┐\n",
       "│ l_returnflag │ l_linestatus │  SUM_QTY  │ … │     AVG_PRICE      │       AVG_DISC       │ COUNT_ORDER │\n",
       "│   varchar    │   varchar    │  double   │   │       double       │        double        │    int64    │\n",
       "├──────────────┼──────────────┼───────────┼───┼────────────────────┼──────────────────────┼─────────────┤\n",
       "│ N            │ O            │ 5009601.0 │ … │ 38211.636184674324 │  0.04991896140364839 │      196573 │\n",
       "│ A            │ F            │ 2484642.0 │ … │  38360.56850604393 │ 0.049793940640911825 │       97205 │\n",
       "│ R            │ F            │ 2469473.0 │ … │  38203.05635229532 │ 0.050062014384033425 │       96913 │\n",
       "│ N            │ F            │   65038.0 │ … │   38841.9204079208 │  0.04975049504950487 │        2525 │\n",
       "├──────────────┴──────────────┴───────────┴───┴────────────────────┴──────────────────────┴─────────────┤\n",
       "│ 4 rows                                                                           10 columns (6 shown) │\n",
       "└───────────────────────────────────────────────────────────────────────────────────────────────────────┘"
      ]
     },
     "execution_count": 82,
     "metadata": {},
     "output_type": "execute_result"
    }
   ],
   "source": [
    "sqlstr = \"\"\"\n",
    "SET threads TO 10;\n",
    "\n",
    "SELECT L_RETURNFLAG, L_LINESTATUS, SUM(L_QUANTITY) AS SUM_QTY,\n",
    "SUM(L_EXTENDEDPRICE) AS SUM_BASE_PRICE, SUM(L_EXTENDEDPRICE*(-L_DISCOUNT + 1.0)) AS SUM_DISC_PRICE,\n",
    "SUM(L_EXTENDEDPRICE*(-L_DISCOUNT + 1.0)*(L_TAX + 1.0)) AS SUM_CHARGE, AVG(L_QUANTITY) AS AVG_QTY,\n",
    "AVG(L_EXTENDEDPRICE) AS AVG_PRICE, AVG(L_DISCOUNT) AS AVG_DISC, COUNT(L_QUANTITY) AS COUNT_ORDER\n",
    "FROM LINEITEM\n",
    "WHERE L_SHIPDATE <= '1998-12-01'\n",
    "GROUP BY L_RETURNFLAG, L_LINESTATUS;\n",
    "\"\"\"\n",
    "\n",
    "duckdb.sql(sqlstr)"
   ]
  },
  {
   "cell_type": "code",
   "execution_count": 80,
   "metadata": {},
   "outputs": [
    {
     "data": {
      "text/html": [
       "<div>\n",
       "<style scoped>\n",
       "    .dataframe tbody tr th:only-of-type {\n",
       "        vertical-align: middle;\n",
       "    }\n",
       "\n",
       "    .dataframe tbody tr th {\n",
       "        vertical-align: top;\n",
       "    }\n",
       "\n",
       "    .dataframe thead th {\n",
       "        text-align: right;\n",
       "    }\n",
       "</style>\n",
       "<table border=\"1\" class=\"dataframe\">\n",
       "  <thead>\n",
       "    <tr style=\"text-align: right;\">\n",
       "      <th></th>\n",
       "      <th>count_star()</th>\n",
       "    </tr>\n",
       "  </thead>\n",
       "  <tbody>\n",
       "    <tr>\n",
       "      <th>0</th>\n",
       "      <td>393216</td>\n",
       "    </tr>\n",
       "  </tbody>\n",
       "</table>\n",
       "</div>"
      ],
      "text/plain": [
       "   count_star()\n",
       "0        393216"
      ]
     },
     "execution_count": 80,
     "metadata": {},
     "output_type": "execute_result"
    }
   ],
   "source": [
    "%sql select count(*) FROM LINEITEM \n"
   ]
  },
  {
   "cell_type": "code",
   "execution_count": 72,
   "metadata": {},
   "outputs": [
    {
     "data": {
      "text/html": [
       "<div>\n",
       "<style scoped>\n",
       "    .dataframe tbody tr th:only-of-type {\n",
       "        vertical-align: middle;\n",
       "    }\n",
       "\n",
       "    .dataframe tbody tr th {\n",
       "        vertical-align: top;\n",
       "    }\n",
       "\n",
       "    .dataframe thead th {\n",
       "        text-align: right;\n",
       "    }\n",
       "</style>\n",
       "<table border=\"1\" class=\"dataframe\">\n",
       "  <thead>\n",
       "    <tr style=\"text-align: right;\">\n",
       "      <th></th>\n",
       "      <th>count_star()</th>\n",
       "    </tr>\n",
       "  </thead>\n",
       "  <tbody>\n",
       "    <tr>\n",
       "      <th>0</th>\n",
       "      <td>393216</td>\n",
       "    </tr>\n",
       "  </tbody>\n",
       "</table>\n",
       "</div>"
      ],
      "text/plain": [
       "   count_star()\n",
       "0        393216"
      ]
     },
     "execution_count": 72,
     "metadata": {},
     "output_type": "execute_result"
    }
   ],
   "source": [
    "%sql select count(*) FROM LINEITEM  WHERE L_SHIPDATE <= '1998-12-01'"
   ]
  },
  {
   "cell_type": "code",
   "execution_count": null,
   "metadata": {},
   "outputs": [],
   "source": []
  }
 ],
 "metadata": {
  "kernelspec": {
   "display_name": "Python 3 (ipykernel)",
   "language": "python",
   "name": "python3"
  },
  "language_info": {
   "codemirror_mode": {
    "name": "ipython",
    "version": 3
   },
   "file_extension": ".py",
   "mimetype": "text/x-python",
   "name": "python",
   "nbconvert_exporter": "python",
   "pygments_lexer": "ipython3",
   "version": "3.7.7"
  }
 },
 "nbformat": 4,
 "nbformat_minor": 4
}

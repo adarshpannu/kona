{
 "cells": [
  {
   "cell_type": "markdown",
   "metadata": {},
   "source": [
    "# Scratch"
   ]
  },
  {
   "cell_type": "code",
   "execution_count": 2,
   "metadata": {},
   "outputs": [
    {
     "name": "stdout",
     "output_type": "stream",
     "text": [
      "root\n",
      " |-- name: string (nullable = true)\n",
      " |-- age: integer (nullable = true)\n",
      " |-- dept_id: integer (nullable = true)\n",
      "\n"
     ]
    }
   ],
   "source": [
    "EMPFILE = \"/Users/adarshrp/Projects/flare/data/emp.csv\"\n",
    "emp = spark.read.option(\"header\", True).option(\"inferSchema\", True).csv(EMPFILE)\n",
    "emp.printSchema()\n",
    "emp.createOrReplaceTempView(\"emp\")\n"
   ]
  },
  {
   "cell_type": "code",
   "execution_count": 15,
   "metadata": {},
   "outputs": [
    {
     "ename": "ParseException",
     "evalue": "\nmismatched input '(' expecting {<EOF>, ';'}(line 3, pos 16)\n\n== SQL ==\n\nselect name from EMP\nwhere age > ANY (select max(age) from EMP)\n----------------^^^\n",
     "output_type": "error",
     "traceback": [
      "\u001b[0;31m---------------------------------------------------------------------------\u001b[0m",
      "\u001b[0;31mParseException\u001b[0m                            Traceback (most recent call last)",
      "\u001b[0;32m<ipython-input-15-df73f6e20655>\u001b[0m in \u001b[0;36m<module>\u001b[0;34m\u001b[0m\n\u001b[1;32m      2\u001b[0m \u001b[0mselect\u001b[0m \u001b[0mname\u001b[0m \u001b[0;32mfrom\u001b[0m \u001b[0mEMP\u001b[0m\u001b[0;34m\u001b[0m\u001b[0;34m\u001b[0m\u001b[0m\n\u001b[1;32m      3\u001b[0m \u001b[0mwhere\u001b[0m \u001b[0mage\u001b[0m \u001b[0;34m>\u001b[0m \u001b[0mANY\u001b[0m \u001b[0;34m(\u001b[0m\u001b[0mselect\u001b[0m \u001b[0mmax\u001b[0m\u001b[0;34m(\u001b[0m\u001b[0mage\u001b[0m\u001b[0;34m)\u001b[0m \u001b[0;32mfrom\u001b[0m \u001b[0mEMP\u001b[0m\u001b[0;34m)\u001b[0m\u001b[0;34m\u001b[0m\u001b[0;34m\u001b[0m\u001b[0m\n\u001b[0;32m----> 4\u001b[0;31m \"\"\").show(10)\n\u001b[0m",
      "\u001b[0;32m~/opt/spark-3.1.2-bin-hadoop3.2/python/pyspark/sql/session.py\u001b[0m in \u001b[0;36msql\u001b[0;34m(self, sqlQuery)\u001b[0m\n\u001b[1;32m    721\u001b[0m         \u001b[0;34m[\u001b[0m\u001b[0mRow\u001b[0m\u001b[0;34m(\u001b[0m\u001b[0mf1\u001b[0m\u001b[0;34m=\u001b[0m\u001b[0;36m1\u001b[0m\u001b[0;34m,\u001b[0m \u001b[0mf2\u001b[0m\u001b[0;34m=\u001b[0m\u001b[0;34m'row1'\u001b[0m\u001b[0;34m)\u001b[0m\u001b[0;34m,\u001b[0m \u001b[0mRow\u001b[0m\u001b[0;34m(\u001b[0m\u001b[0mf1\u001b[0m\u001b[0;34m=\u001b[0m\u001b[0;36m2\u001b[0m\u001b[0;34m,\u001b[0m \u001b[0mf2\u001b[0m\u001b[0;34m=\u001b[0m\u001b[0;34m'row2'\u001b[0m\u001b[0;34m)\u001b[0m\u001b[0;34m,\u001b[0m \u001b[0mRow\u001b[0m\u001b[0;34m(\u001b[0m\u001b[0mf1\u001b[0m\u001b[0;34m=\u001b[0m\u001b[0;36m3\u001b[0m\u001b[0;34m,\u001b[0m \u001b[0mf2\u001b[0m\u001b[0;34m=\u001b[0m\u001b[0;34m'row3'\u001b[0m\u001b[0;34m)\u001b[0m\u001b[0;34m]\u001b[0m\u001b[0;34m\u001b[0m\u001b[0;34m\u001b[0m\u001b[0m\n\u001b[1;32m    722\u001b[0m         \"\"\"\n\u001b[0;32m--> 723\u001b[0;31m         \u001b[0;32mreturn\u001b[0m \u001b[0mDataFrame\u001b[0m\u001b[0;34m(\u001b[0m\u001b[0mself\u001b[0m\u001b[0;34m.\u001b[0m\u001b[0m_jsparkSession\u001b[0m\u001b[0;34m.\u001b[0m\u001b[0msql\u001b[0m\u001b[0;34m(\u001b[0m\u001b[0msqlQuery\u001b[0m\u001b[0;34m)\u001b[0m\u001b[0;34m,\u001b[0m \u001b[0mself\u001b[0m\u001b[0;34m.\u001b[0m\u001b[0m_wrapped\u001b[0m\u001b[0;34m)\u001b[0m\u001b[0;34m\u001b[0m\u001b[0;34m\u001b[0m\u001b[0m\n\u001b[0m\u001b[1;32m    724\u001b[0m \u001b[0;34m\u001b[0m\u001b[0m\n\u001b[1;32m    725\u001b[0m     \u001b[0;32mdef\u001b[0m \u001b[0mtable\u001b[0m\u001b[0;34m(\u001b[0m\u001b[0mself\u001b[0m\u001b[0;34m,\u001b[0m \u001b[0mtableName\u001b[0m\u001b[0;34m)\u001b[0m\u001b[0;34m:\u001b[0m\u001b[0;34m\u001b[0m\u001b[0;34m\u001b[0m\u001b[0m\n",
      "\u001b[0;32m~/opt/spark-3.1.2-bin-hadoop3.2/python/lib/py4j-0.10.9-src.zip/py4j/java_gateway.py\u001b[0m in \u001b[0;36m__call__\u001b[0;34m(self, *args)\u001b[0m\n\u001b[1;32m   1303\u001b[0m         \u001b[0manswer\u001b[0m \u001b[0;34m=\u001b[0m \u001b[0mself\u001b[0m\u001b[0;34m.\u001b[0m\u001b[0mgateway_client\u001b[0m\u001b[0;34m.\u001b[0m\u001b[0msend_command\u001b[0m\u001b[0;34m(\u001b[0m\u001b[0mcommand\u001b[0m\u001b[0;34m)\u001b[0m\u001b[0;34m\u001b[0m\u001b[0;34m\u001b[0m\u001b[0m\n\u001b[1;32m   1304\u001b[0m         return_value = get_return_value(\n\u001b[0;32m-> 1305\u001b[0;31m             answer, self.gateway_client, self.target_id, self.name)\n\u001b[0m\u001b[1;32m   1306\u001b[0m \u001b[0;34m\u001b[0m\u001b[0m\n\u001b[1;32m   1307\u001b[0m         \u001b[0;32mfor\u001b[0m \u001b[0mtemp_arg\u001b[0m \u001b[0;32min\u001b[0m \u001b[0mtemp_args\u001b[0m\u001b[0;34m:\u001b[0m\u001b[0;34m\u001b[0m\u001b[0;34m\u001b[0m\u001b[0m\n",
      "\u001b[0;32m~/opt/spark-3.1.2-bin-hadoop3.2/python/pyspark/sql/utils.py\u001b[0m in \u001b[0;36mdeco\u001b[0;34m(*a, **kw)\u001b[0m\n\u001b[1;32m    115\u001b[0m                 \u001b[0;31m# Hide where the exception came from that shows a non-Pythonic\u001b[0m\u001b[0;34m\u001b[0m\u001b[0;34m\u001b[0m\u001b[0;34m\u001b[0m\u001b[0m\n\u001b[1;32m    116\u001b[0m                 \u001b[0;31m# JVM exception message.\u001b[0m\u001b[0;34m\u001b[0m\u001b[0;34m\u001b[0m\u001b[0;34m\u001b[0m\u001b[0m\n\u001b[0;32m--> 117\u001b[0;31m                 \u001b[0;32mraise\u001b[0m \u001b[0mconverted\u001b[0m \u001b[0;32mfrom\u001b[0m \u001b[0;32mNone\u001b[0m\u001b[0;34m\u001b[0m\u001b[0;34m\u001b[0m\u001b[0m\n\u001b[0m\u001b[1;32m    118\u001b[0m             \u001b[0;32melse\u001b[0m\u001b[0;34m:\u001b[0m\u001b[0;34m\u001b[0m\u001b[0;34m\u001b[0m\u001b[0m\n\u001b[1;32m    119\u001b[0m                 \u001b[0;32mraise\u001b[0m\u001b[0;34m\u001b[0m\u001b[0;34m\u001b[0m\u001b[0m\n",
      "\u001b[0;31mParseException\u001b[0m: \nmismatched input '(' expecting {<EOF>, ';'}(line 3, pos 16)\n\n== SQL ==\n\nselect name from EMP\nwhere age > ANY (select max(age) from EMP)\n----------------^^^\n"
     ]
    }
   ],
   "source": [
    "spark.sql(\"\"\"\n",
    "select name from EMP\n",
    "where age > ANY (select max(age) from EMP)\n",
    "\"\"\").show(10)"
   ]
  },
  {
   "cell_type": "code",
   "execution_count": null,
   "metadata": {},
   "outputs": [],
   "source": []
  },
  {
   "cell_type": "code",
   "execution_count": 30,
   "metadata": {},
   "outputs": [
    {
     "name": "stdout",
     "output_type": "stream",
     "text": [
      "+------+---+------+---+-------+-----+\n",
      "|--cte1|age|--cte1|2nd|dept_id| name|\n",
      "+------+---+------+---+-------+-----+\n",
      "|--cte1| 32|--cte1|2nd|      1| john|\n",
      "|--cte1| 30|--cte1|2nd|      1| john|\n",
      "|--cte1| 53|--cte1|2nd|      1| john|\n",
      "|--cte1| 45|--cte1|2nd|      1| john|\n",
      "|--cte1| 25|--cte1|2nd|      1| john|\n",
      "|--cte1| 28|--cte1|2nd|      1| john|\n",
      "|--cte1| 45|--cte1|2nd|      1| john|\n",
      "|--cte1| 25|--cte1|2nd|      1| john|\n",
      "|--cte1| 28|--cte1|2nd|      1| john|\n",
      "|--cte1| 28|--cte1|2nd|      1| john|\n",
      "|--cte1| 24|--cte1|2nd|      1| john|\n",
      "|--cte1| 27|--cte1|2nd|      1| john|\n",
      "|--cte1| 42|--cte1|2nd|      1| john|\n",
      "|--cte1| 38|--cte1|2nd|      1| john|\n",
      "|--cte1| 61|--cte1|2nd|      1| john|\n",
      "|--cte1| 32|--cte1|2nd|      2|  aby|\n",
      "|--cte1| 30|--cte1|2nd|      2|  aby|\n",
      "|--cte1| 53|--cte1|2nd|      2|  aby|\n",
      "|--cte1| 45|--cte1|2nd|      2|  aby|\n",
      "|--cte1| 25|--cte1|2nd|      2|  aby|\n",
      "|--cte1| 28|--cte1|2nd|      2|  aby|\n",
      "|--cte1| 45|--cte1|2nd|      2|  aby|\n",
      "|--cte1| 25|--cte1|2nd|      2|  aby|\n",
      "|--cte1| 28|--cte1|2nd|      2|  aby|\n",
      "|--cte1| 28|--cte1|2nd|      2|  aby|\n",
      "|--cte1| 24|--cte1|2nd|      2|  aby|\n",
      "|--cte1| 27|--cte1|2nd|      2|  aby|\n",
      "|--cte1| 42|--cte1|2nd|      2|  aby|\n",
      "|--cte1| 38|--cte1|2nd|      2|  aby|\n",
      "|--cte1| 61|--cte1|2nd|      2|  aby|\n",
      "|--cte1| 32|--cte1|2nd|      2|sarah|\n",
      "|--cte1| 30|--cte1|2nd|      2|sarah|\n",
      "|--cte1| 53|--cte1|2nd|      2|sarah|\n",
      "|--cte1| 45|--cte1|2nd|      2|sarah|\n",
      "|--cte1| 25|--cte1|2nd|      2|sarah|\n",
      "|--cte1| 28|--cte1|2nd|      2|sarah|\n",
      "|--cte1| 45|--cte1|2nd|      2|sarah|\n",
      "|--cte1| 25|--cte1|2nd|      2|sarah|\n",
      "|--cte1| 28|--cte1|2nd|      2|sarah|\n",
      "|--cte1| 28|--cte1|2nd|      2|sarah|\n",
      "|--cte1| 24|--cte1|2nd|      2|sarah|\n",
      "|--cte1| 27|--cte1|2nd|      2|sarah|\n",
      "|--cte1| 42|--cte1|2nd|      2|sarah|\n",
      "|--cte1| 38|--cte1|2nd|      2|sarah|\n",
      "|--cte1| 61|--cte1|2nd|      2|sarah|\n",
      "|--cte1| 32|--cte1|2nd|      3|  joe|\n",
      "|--cte1| 30|--cte1|2nd|      3|  joe|\n",
      "|--cte1| 53|--cte1|2nd|      3|  joe|\n",
      "|--cte1| 45|--cte1|2nd|      3|  joe|\n",
      "|--cte1| 25|--cte1|2nd|      3|  joe|\n",
      "|--cte1| 28|--cte1|2nd|      3|  joe|\n",
      "|--cte1| 45|--cte1|2nd|      3|  joe|\n",
      "|--cte1| 25|--cte1|2nd|      3|  joe|\n",
      "|--cte1| 28|--cte1|2nd|      3|  joe|\n",
      "|--cte1| 28|--cte1|2nd|      3|  joe|\n",
      "|--cte1| 24|--cte1|2nd|      3|  joe|\n",
      "|--cte1| 27|--cte1|2nd|      3|  joe|\n",
      "|--cte1| 42|--cte1|2nd|      3|  joe|\n",
      "|--cte1| 38|--cte1|2nd|      3|  joe|\n",
      "|--cte1| 61|--cte1|2nd|      3|  joe|\n",
      "|--cte1| 32|--cte1|2nd|      3| hari|\n",
      "|--cte1| 30|--cte1|2nd|      3| hari|\n",
      "|--cte1| 53|--cte1|2nd|      3| hari|\n",
      "|--cte1| 45|--cte1|2nd|      3| hari|\n",
      "|--cte1| 25|--cte1|2nd|      3| hari|\n",
      "|--cte1| 28|--cte1|2nd|      3| hari|\n",
      "|--cte1| 45|--cte1|2nd|      3| hari|\n",
      "|--cte1| 25|--cte1|2nd|      3| hari|\n",
      "|--cte1| 28|--cte1|2nd|      3| hari|\n",
      "|--cte1| 28|--cte1|2nd|      3| hari|\n",
      "|--cte1| 24|--cte1|2nd|      3| hari|\n",
      "|--cte1| 27|--cte1|2nd|      3| hari|\n",
      "|--cte1| 42|--cte1|2nd|      3| hari|\n",
      "|--cte1| 38|--cte1|2nd|      3| hari|\n",
      "|--cte1| 61|--cte1|2nd|      3| hari|\n",
      "|--cte1| 32|--cte1|2nd|      3|kumar|\n",
      "|--cte1| 30|--cte1|2nd|      3|kumar|\n",
      "|--cte1| 53|--cte1|2nd|      3|kumar|\n",
      "|--cte1| 45|--cte1|2nd|      3|kumar|\n",
      "|--cte1| 25|--cte1|2nd|      3|kumar|\n",
      "|--cte1| 28|--cte1|2nd|      3|kumar|\n",
      "|--cte1| 45|--cte1|2nd|      3|kumar|\n",
      "|--cte1| 25|--cte1|2nd|      3|kumar|\n",
      "|--cte1| 28|--cte1|2nd|      3|kumar|\n",
      "|--cte1| 28|--cte1|2nd|      3|kumar|\n",
      "|--cte1| 24|--cte1|2nd|      3|kumar|\n",
      "|--cte1| 27|--cte1|2nd|      3|kumar|\n",
      "|--cte1| 42|--cte1|2nd|      3|kumar|\n",
      "|--cte1| 38|--cte1|2nd|      3|kumar|\n",
      "|--cte1| 61|--cte1|2nd|      3|kumar|\n",
      "|--cte1| 32|--cte1|2nd|      4|james|\n",
      "|--cte1| 30|--cte1|2nd|      4|james|\n",
      "|--cte1| 53|--cte1|2nd|      4|james|\n",
      "|--cte1| 45|--cte1|2nd|      4|james|\n",
      "|--cte1| 25|--cte1|2nd|      4|james|\n",
      "|--cte1| 28|--cte1|2nd|      4|james|\n",
      "|--cte1| 45|--cte1|2nd|      4|james|\n",
      "|--cte1| 25|--cte1|2nd|      4|james|\n",
      "|--cte1| 28|--cte1|2nd|      4|james|\n",
      "|--cte1| 28|--cte1|2nd|      4|james|\n",
      "+------+---+------+---+-------+-----+\n",
      "only showing top 100 rows\n",
      "\n"
     ]
    }
   ],
   "source": [
    "spark.sql(\"\"\"\n",
    "WITH CTE1 AS (select '--cte1', age, '--cte1' from emp),\n",
    " CTE2 AS (select '--cte2', age, '--cte2' from emp)\n",
    "SELECT * FROM CTE1, (select '2nd', dept_id, name from EMP) CTE1\n",
    "WHERE name in (select name from emp CTE1 where CTE1.age >= 0) \n",
    "and age in (select CTE2.age from EMP CTE2 where CTE1.age = CTE2.age)\n",
    "\"\"\").show(100)"
   ]
  },
  {
   "cell_type": "code",
   "execution_count": 35,
   "metadata": {},
   "outputs": [],
   "source": [
    "parquetFile = spark.read.parquet(\"/tmp/file.parquet\")\n",
    "parquetFile.createOrReplaceTempView(\"parquetFile\")"
   ]
  },
  {
   "cell_type": "code",
   "execution_count": 36,
   "metadata": {
    "scrolled": true
   },
   "outputs": [
    {
     "data": {
      "text/plain": [
       "DataFrame[column_1: bigint, column_2: string, column_3: string]"
      ]
     },
     "execution_count": 36,
     "metadata": {},
     "output_type": "execute_result"
    }
   ],
   "source": [
    "parquetFile"
   ]
  },
  {
   "cell_type": "code",
   "execution_count": 37,
   "metadata": {
    "scrolled": false
   },
   "outputs": [
    {
     "data": {
      "text/plain": [
       "['column_1', 'column_2', 'column_3']"
      ]
     },
     "execution_count": 37,
     "metadata": {},
     "output_type": "execute_result"
    }
   ],
   "source": [
    "parquetFile.columns"
   ]
  },
  {
   "cell_type": "code",
   "execution_count": 38,
   "metadata": {
    "scrolled": true
   },
   "outputs": [
    {
     "name": "stdout",
     "output_type": "stream",
     "text": [
      "+--------+-----------+--------------------+\n",
      "|column_1|   column_2|            column_3|\n",
      "+--------+-----------+--------------------+\n",
      "|       1|    AMERICA|hs use ironic, ev...|\n",
      "|       2|       ASIA|ges. thinly even ...|\n",
      "|       3|     EUROPE|ly final courts c...|\n",
      "|       4|MIDDLE EAST|uickly special ac...|\n",
      "+--------+-----------+--------------------+\n",
      "\n"
     ]
    }
   ],
   "source": [
    "spark.sql(\"SELECT * FROM parquetFile\").show(100)"
   ]
  },
  {
   "cell_type": "code",
   "execution_count": 41,
   "metadata": {},
   "outputs": [
    {
     "data": {
      "text/plain": [
       "1"
      ]
     },
     "execution_count": 41,
     "metadata": {},
     "output_type": "execute_result"
    }
   ],
   "source": [
    "parquetFile.rdd.getNumPartitions()"
   ]
  },
  {
   "cell_type": "code",
   "execution_count": 42,
   "metadata": {},
   "outputs": [],
   "source": [
    "parquetFile.write.format(\"parquet\").partitionBy(\"column_2\").mode(\"overwrite\").save(\"/tmp/pqptns.parquet\")"
   ]
  },
  {
   "cell_type": "code",
   "execution_count": null,
   "metadata": {},
   "outputs": [],
   "source": []
  }
 ],
 "metadata": {
  "kernelspec": {
   "display_name": "Python 3",
   "language": "python",
   "name": "python3"
  },
  "language_info": {
   "codemirror_mode": {
    "name": "ipython",
    "version": 3
   },
   "file_extension": ".py",
   "mimetype": "text/x-python",
   "name": "python",
   "nbconvert_exporter": "python",
   "pygments_lexer": "ipython3",
   "version": "3.7.7"
  }
 },
 "nbformat": 4,
 "nbformat_minor": 2
}
